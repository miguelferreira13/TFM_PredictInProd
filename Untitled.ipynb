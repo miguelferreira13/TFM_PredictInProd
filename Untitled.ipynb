{
 "cells": [
  {
   "cell_type": "code",
   "execution_count": 7,
   "id": "5d55f59e",
   "metadata": {},
   "outputs": [],
   "source": [
    "from fastapi import FastAPI\n",
    "from fastapi.middleware.cors import CORSMiddleware\n",
    "from datetime import datetime\n",
    "import pytz\n",
    "import numpy as np\n",
    "import pandas as pd\n",
    "import joblib"
   ]
  },
  {
   "cell_type": "code",
   "execution_count": 56,
   "id": "87fdeb4a",
   "metadata": {},
   "outputs": [],
   "source": [
    "def predict(pickup_datetime, pickup_longitude, pickup_latitude, dropoff_longitude,\\\n",
    "    dropoff_latitude, passenger_count):\n",
    "\n",
    "    key = '2013-07-06 17:18:00.000000119'\n",
    "    # pickup_datetime = object(pickup_datetime)\n",
    "    pickup_longitude = float(pickup_longitude)\n",
    "    pickup_latitude = float(pickup_latitude)\n",
    "    dropoff_longitude = float(dropoff_longitude)\n",
    "    dropoff_latitude = float(dropoff_latitude)\n",
    "    passenger_count = int(passenger_count)\n",
    "    \n",
    "#     pickup_datetime = datetime.strptime(pickup_datetime, \"%Y-%m-%d %H:%M:%S\")\n",
    "#     # localize the user datetime with NYC timezone\n",
    "#     eastern = pytz.timezone(\"US/Eastern\")\n",
    "#     localized_pickup_datetime = eastern.localize(pickup_datetime, is_dst=None)\n",
    "#     utc_pickup_datetime = localized_pickup_datetime.astimezone(pytz.utc)\n",
    "    \n",
    "    convert_np = np.array([pickup_datetime, pickup_longitude, pickup_latitude\\\n",
    "        ,dropoff_longitude, dropoff_latitude, passenger_count])\n",
    "    return pd.DataFrame(convert_np.reshape(-1, len(convert_np)),\n",
    "                       columns=['pickup_datetime', 'pickup_longitude', 'pickup_latitude'\\\n",
    "        ,'dropoff_longitude', 'dropoff_latitude', 'passenger_count'], index = [key])\n"
   ]
  },
  {
   "cell_type": "code",
   "execution_count": 57,
   "id": "1024ff39",
   "metadata": {},
   "outputs": [
    {
     "data": {
      "text/html": [
       "<div>\n",
       "<style scoped>\n",
       "    .dataframe tbody tr th:only-of-type {\n",
       "        vertical-align: middle;\n",
       "    }\n",
       "\n",
       "    .dataframe tbody tr th {\n",
       "        vertical-align: top;\n",
       "    }\n",
       "\n",
       "    .dataframe thead th {\n",
       "        text-align: right;\n",
       "    }\n",
       "</style>\n",
       "<table border=\"1\" class=\"dataframe\">\n",
       "  <thead>\n",
       "    <tr style=\"text-align: right;\">\n",
       "      <th></th>\n",
       "      <th>pickup_datetime</th>\n",
       "      <th>pickup_longitude</th>\n",
       "      <th>pickup_latitude</th>\n",
       "      <th>dropoff_longitude</th>\n",
       "      <th>dropoff_latitude</th>\n",
       "      <th>passenger_count</th>\n",
       "    </tr>\n",
       "  </thead>\n",
       "  <tbody>\n",
       "    <tr>\n",
       "      <th>2013-07-06 17:18:00.000000119</th>\n",
       "      <td>2013-07-06%2017:18:00</td>\n",
       "      <td>-73.950655</td>\n",
       "      <td>40.783282</td>\n",
       "      <td>-73.984365</td>\n",
       "      <td>40.769802</td>\n",
       "      <td>1</td>\n",
       "    </tr>\n",
       "  </tbody>\n",
       "</table>\n",
       "</div>"
      ],
      "text/plain": [
       "                                     pickup_datetime pickup_longitude  \\\n",
       "2013-07-06 17:18:00.000000119  2013-07-06%2017:18:00       -73.950655   \n",
       "\n",
       "                              pickup_latitude dropoff_longitude  \\\n",
       "2013-07-06 17:18:00.000000119       40.783282        -73.984365   \n",
       "\n",
       "                              dropoff_latitude passenger_count  \n",
       "2013-07-06 17:18:00.000000119        40.769802               1  "
      ]
     },
     "execution_count": 57,
     "metadata": {},
     "output_type": "execute_result"
    }
   ],
   "source": [
    "pickup_datetime='2013-07-06%2017:18:00'\n",
    "pickup_longitude='-73.950655'\n",
    "pickup_latitude='40.783282'\n",
    "dropoff_longitude='-73.984365'\n",
    "dropoff_latitude='40.769802'\n",
    "passenger_count='1'\n",
    "\n",
    "predict(pickup_datetime, pickup_longitude, pickup_latitude, dropoff_longitude,dropoff_latitude, passenger_count)"
   ]
  },
  {
   "cell_type": "code",
   "execution_count": 37,
   "id": "cd90f88b",
   "metadata": {},
   "outputs": [
    {
     "ename": "ValueError",
     "evalue": "time data '2013-07-06%2017:18:00' does not match format '%Y-%m-%d %H:%M:%S'",
     "output_type": "error",
     "traceback": [
      "\u001b[0;31m----------------------------------------------------------------------\u001b[0m",
      "\u001b[0;31mValueError\u001b[0m                           Traceback (most recent call last)",
      "\u001b[0;32m<ipython-input-37-1faa3a5fac55>\u001b[0m in \u001b[0;36m<module>\u001b[0;34m\u001b[0m\n\u001b[0;32m----> 1\u001b[0;31m \u001b[0mpickup_datetime\u001b[0m \u001b[0;34m=\u001b[0m \u001b[0mdatetime\u001b[0m\u001b[0;34m.\u001b[0m\u001b[0mstrptime\u001b[0m\u001b[0;34m(\u001b[0m\u001b[0mpickup_datetime\u001b[0m\u001b[0;34m,\u001b[0m \u001b[0;34m\"%Y-%m-%d %H:%M:%S\"\u001b[0m\u001b[0;34m)\u001b[0m\u001b[0;34m\u001b[0m\u001b[0;34m\u001b[0m\u001b[0m\n\u001b[0m",
      "\u001b[0;32m~/.pyenv/versions/3.8.6/lib/python3.8/_strptime.py\u001b[0m in \u001b[0;36m_strptime_datetime\u001b[0;34m(cls, data_string, format)\u001b[0m\n\u001b[1;32m    566\u001b[0m     \"\"\"Return a class cls instance based on the input string and the\n\u001b[1;32m    567\u001b[0m     format string.\"\"\"\n\u001b[0;32m--> 568\u001b[0;31m     \u001b[0mtt\u001b[0m\u001b[0;34m,\u001b[0m \u001b[0mfraction\u001b[0m\u001b[0;34m,\u001b[0m \u001b[0mgmtoff_fraction\u001b[0m \u001b[0;34m=\u001b[0m \u001b[0m_strptime\u001b[0m\u001b[0;34m(\u001b[0m\u001b[0mdata_string\u001b[0m\u001b[0;34m,\u001b[0m \u001b[0mformat\u001b[0m\u001b[0;34m)\u001b[0m\u001b[0;34m\u001b[0m\u001b[0;34m\u001b[0m\u001b[0m\n\u001b[0m\u001b[1;32m    569\u001b[0m     \u001b[0mtzname\u001b[0m\u001b[0;34m,\u001b[0m \u001b[0mgmtoff\u001b[0m \u001b[0;34m=\u001b[0m \u001b[0mtt\u001b[0m\u001b[0;34m[\u001b[0m\u001b[0;34m-\u001b[0m\u001b[0;36m2\u001b[0m\u001b[0;34m:\u001b[0m\u001b[0;34m]\u001b[0m\u001b[0;34m\u001b[0m\u001b[0;34m\u001b[0m\u001b[0m\n\u001b[1;32m    570\u001b[0m     \u001b[0margs\u001b[0m \u001b[0;34m=\u001b[0m \u001b[0mtt\u001b[0m\u001b[0;34m[\u001b[0m\u001b[0;34m:\u001b[0m\u001b[0;36m6\u001b[0m\u001b[0;34m]\u001b[0m \u001b[0;34m+\u001b[0m \u001b[0;34m(\u001b[0m\u001b[0mfraction\u001b[0m\u001b[0;34m,\u001b[0m\u001b[0;34m)\u001b[0m\u001b[0;34m\u001b[0m\u001b[0;34m\u001b[0m\u001b[0m\n",
      "\u001b[0;32m~/.pyenv/versions/3.8.6/lib/python3.8/_strptime.py\u001b[0m in \u001b[0;36m_strptime\u001b[0;34m(data_string, format)\u001b[0m\n\u001b[1;32m    347\u001b[0m     \u001b[0mfound\u001b[0m \u001b[0;34m=\u001b[0m \u001b[0mformat_regex\u001b[0m\u001b[0;34m.\u001b[0m\u001b[0mmatch\u001b[0m\u001b[0;34m(\u001b[0m\u001b[0mdata_string\u001b[0m\u001b[0;34m)\u001b[0m\u001b[0;34m\u001b[0m\u001b[0;34m\u001b[0m\u001b[0m\n\u001b[1;32m    348\u001b[0m     \u001b[0;32mif\u001b[0m \u001b[0;32mnot\u001b[0m \u001b[0mfound\u001b[0m\u001b[0;34m:\u001b[0m\u001b[0;34m\u001b[0m\u001b[0;34m\u001b[0m\u001b[0m\n\u001b[0;32m--> 349\u001b[0;31m         raise ValueError(\"time data %r does not match format %r\" %\n\u001b[0m\u001b[1;32m    350\u001b[0m                          (data_string, format))\n\u001b[1;32m    351\u001b[0m     \u001b[0;32mif\u001b[0m \u001b[0mlen\u001b[0m\u001b[0;34m(\u001b[0m\u001b[0mdata_string\u001b[0m\u001b[0;34m)\u001b[0m \u001b[0;34m!=\u001b[0m \u001b[0mfound\u001b[0m\u001b[0;34m.\u001b[0m\u001b[0mend\u001b[0m\u001b[0;34m(\u001b[0m\u001b[0;34m)\u001b[0m\u001b[0;34m:\u001b[0m\u001b[0;34m\u001b[0m\u001b[0;34m\u001b[0m\u001b[0m\n",
      "\u001b[0;31mValueError\u001b[0m: time data '2013-07-06%2017:18:00' does not match format '%Y-%m-%d %H:%M:%S'"
     ]
    }
   ],
   "source": [
    "pickup_datetime = datetime.strptime(pickup_datetime, \"%Y-%m-%d %H:%M:%S\")"
   ]
  },
  {
   "cell_type": "code",
   "execution_count": 59,
   "id": "6f0ca615",
   "metadata": {},
   "outputs": [
    {
     "ename": "NameError",
     "evalue": "name 'key' is not defined",
     "output_type": "error",
     "traceback": [
      "\u001b[0;31m----------------------------------------------------------------------\u001b[0m",
      "\u001b[0;31mNameError\u001b[0m                            Traceback (most recent call last)",
      "\u001b[0;32m<ipython-input-59-f0d57cd04928>\u001b[0m in \u001b[0;36m<module>\u001b[0;34m\u001b[0m\n\u001b[0;32m----> 1\u001b[0;31m convert_np = np.array([key, formatted_pickup_datetime, pickup_longitude, pickup_latitude\\\n\u001b[0m\u001b[1;32m      2\u001b[0m         ,dropoff_longitude, dropoff_latitude, passenger_count])\n\u001b[1;32m      3\u001b[0m \u001b[0;34m\u001b[0m\u001b[0m\n\u001b[1;32m      4\u001b[0m \u001b[0mloaded_model\u001b[0m \u001b[0;34m=\u001b[0m \u001b[0mjoblib\u001b[0m\u001b[0;34m.\u001b[0m\u001b[0mload\u001b[0m\u001b[0;34m(\u001b[0m\u001b[0;34m'model.joblib'\u001b[0m\u001b[0;34m)\u001b[0m\u001b[0;34m\u001b[0m\u001b[0;34m\u001b[0m\u001b[0m\n\u001b[1;32m      5\u001b[0m pred = loaded_model.predict(pd.DataFrame(convert_np.reshape(-1, len(convert_np)),\n",
      "\u001b[0;31mNameError\u001b[0m: name 'key' is not defined"
     ]
    }
   ],
   "source": [
    "convert_np = np.array([key, formatted_pickup_datetime, pickup_longitude, pickup_latitude\\\n",
    "        ,dropoff_longitude, dropoff_latitude, passenger_count])\n",
    "    \n",
    "loaded_model = joblib.load('model.joblib')\n",
    "pred = loaded_model.predict(pd.DataFrame(convert_np.reshape(-1, len(convert_np)),\n",
    "               columns=['key', 'pickup_datetime', 'pickup_longitude', 'pickup_latitude'\\\n",
    "                ,'dropoff_longitude', 'dropoff_latitude', 'passenger_count']))\n",
    "return pred"
   ]
  },
  {
   "cell_type": "code",
   "execution_count": null,
   "id": "25594a3d",
   "metadata": {},
   "outputs": [],
   "source": []
  }
 ],
 "metadata": {
  "kernelspec": {
   "display_name": "Python 3",
   "language": "python",
   "name": "python3"
  },
  "language_info": {
   "codemirror_mode": {
    "name": "ipython",
    "version": 3
   },
   "file_extension": ".py",
   "mimetype": "text/x-python",
   "name": "python",
   "nbconvert_exporter": "python",
   "pygments_lexer": "ipython3",
   "version": "3.8.6"
  },
  "toc": {
   "base_numbering": 1,
   "nav_menu": {},
   "number_sections": true,
   "sideBar": true,
   "skip_h1_title": false,
   "title_cell": "Table of Contents",
   "title_sidebar": "Contents",
   "toc_cell": false,
   "toc_position": {},
   "toc_section_display": true,
   "toc_window_display": false
  }
 },
 "nbformat": 4,
 "nbformat_minor": 5
}
