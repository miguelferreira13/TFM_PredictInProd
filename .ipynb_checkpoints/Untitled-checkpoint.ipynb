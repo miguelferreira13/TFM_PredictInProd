{
 "cells": [
  {
   "cell_type": "code",
   "execution_count": 3,
   "id": "fbd71055",
   "metadata": {},
   "outputs": [],
   "source": [
    "from fastapi import FastAPI\n",
    "from fastapi.middleware.cors import CORSMiddleware\n",
    "from datetime import datetime\n",
    "import pytz\n",
    "import numpy as np\n",
    "import pandas as pd\n",
    "import joblib"
   ]
  },
  {
   "cell_type": "code",
   "execution_count": 4,
   "id": "5a907c21",
   "metadata": {},
   "outputs": [],
   "source": [
    "def predict(pickup_datetime, pickup_longitude, pickup_latitude, dropoff_longitude,\\\n",
    "    dropoff_latitude, passenger_count):\n",
    "\n",
    "    key = '2013-07-06 17:18:00.000000119'\n",
    "    # pickup_datetime = object(pickup_datetime)\n",
    "    pickup_longitude = float(pickup_longitude)\n",
    "    pickup_latitude = float(pickup_latitude)\n",
    "    dropoff_longitude = float(dropoff_longitude)\n",
    "    dropoff_latitude = float(dropoff_latitude)\n",
    "    passenger_count = int(passenger_count)\n",
    "    \n",
    "    pickup_datetime = datetime.strptime(pickup_datetime, \"%Y-%m-%d %H:%M:%S\")\n",
    "    # localize the user datetime with NYC timezone\n",
    "    eastern = pytz.timezone(\"US/Eastern\")\n",
    "    localized_pickup_datetime = eastern.localize(pickup_datetime, is_dst=None)\n",
    "    \n",
    "    # return {\n",
    "    #     'pickup_datetime' : pickup_datetime,\n",
    "    #     'pickup_longitude' : pickup_longitude,\n",
    "    #     'pickup_latitude' : pickup_latitude,\n",
    "    #     'dropoff_longitude' : dropoff_longitude,\n",
    "    #     'dropoff_latitude' : dropoff_latitude,\n",
    "    #     'passenger_count' : passenger_count\n",
    "    # }\n",
    "#     loaded_model = joblib.load('model.joblib')\n",
    "#     pred = loaded_model.predict(pd.DataFrame([key, pickup_datetime, pickup_longitude, pickup_latitude\\\n",
    "#         ,dropoff_longitude, dropoff_latitude, passenger_count]))\n",
    "    return pd.DataFrame([key, pickup_datetime, pickup_longitude, pickup_latitude\\\n",
    "        ,dropoff_longitude, dropoff_latitude, passenger_count])\n"
   ]
  },
  {
   "cell_type": "code",
   "execution_count": 6,
   "id": "a40385e1",
   "metadata": {},
   "outputs": [
    {
     "ename": "ValueError",
     "evalue": "time data '2013-07-06' does not match format '%Y-%m-%d %H:%M:%S'",
     "output_type": "error",
     "traceback": [
      "\u001b[0;31m----------------------------------------------------------------------\u001b[0m",
      "\u001b[0;31mValueError\u001b[0m                           Traceback (most recent call last)",
      "\u001b[0;32m<ipython-input-6-b94cc1a18f1d>\u001b[0m in \u001b[0;36m<module>\u001b[0;34m\u001b[0m\n\u001b[1;32m      6\u001b[0m \u001b[0mpassenger_count\u001b[0m\u001b[0;34m=\u001b[0m\u001b[0;34m'1'\u001b[0m\u001b[0;34m\u001b[0m\u001b[0;34m\u001b[0m\u001b[0m\n\u001b[1;32m      7\u001b[0m \u001b[0;34m\u001b[0m\u001b[0m\n\u001b[0;32m----> 8\u001b[0;31m \u001b[0mpredict\u001b[0m\u001b[0;34m(\u001b[0m\u001b[0mpickup_datetime\u001b[0m\u001b[0;34m,\u001b[0m \u001b[0mpickup_longitude\u001b[0m\u001b[0;34m,\u001b[0m \u001b[0mpickup_latitude\u001b[0m\u001b[0;34m,\u001b[0m \u001b[0mdropoff_longitude\u001b[0m\u001b[0;34m,\u001b[0m\u001b[0mdropoff_latitude\u001b[0m\u001b[0;34m,\u001b[0m \u001b[0mpassenger_count\u001b[0m\u001b[0;34m)\u001b[0m\u001b[0;34m\u001b[0m\u001b[0;34m\u001b[0m\u001b[0m\n\u001b[0m",
      "\u001b[0;32m<ipython-input-4-ad953608b381>\u001b[0m in \u001b[0;36mpredict\u001b[0;34m(pickup_datetime, pickup_longitude, pickup_latitude, dropoff_longitude, dropoff_latitude, passenger_count)\u001b[0m\n\u001b[1;32m     10\u001b[0m     \u001b[0mpassenger_count\u001b[0m \u001b[0;34m=\u001b[0m \u001b[0mint\u001b[0m\u001b[0;34m(\u001b[0m\u001b[0mpassenger_count\u001b[0m\u001b[0;34m)\u001b[0m\u001b[0;34m\u001b[0m\u001b[0;34m\u001b[0m\u001b[0m\n\u001b[1;32m     11\u001b[0m \u001b[0;34m\u001b[0m\u001b[0m\n\u001b[0;32m---> 12\u001b[0;31m     \u001b[0mpickup_datetime\u001b[0m \u001b[0;34m=\u001b[0m \u001b[0mdatetime\u001b[0m\u001b[0;34m.\u001b[0m\u001b[0mstrptime\u001b[0m\u001b[0;34m(\u001b[0m\u001b[0mpickup_datetime\u001b[0m\u001b[0;34m,\u001b[0m \u001b[0;34m\"%Y-%m-%d %H:%M:%S\"\u001b[0m\u001b[0;34m)\u001b[0m\u001b[0;34m\u001b[0m\u001b[0;34m\u001b[0m\u001b[0m\n\u001b[0m\u001b[1;32m     13\u001b[0m     \u001b[0;31m# localize the user datetime with NYC timezone\u001b[0m\u001b[0;34m\u001b[0m\u001b[0;34m\u001b[0m\u001b[0;34m\u001b[0m\u001b[0m\n\u001b[1;32m     14\u001b[0m     \u001b[0meastern\u001b[0m \u001b[0;34m=\u001b[0m \u001b[0mpytz\u001b[0m\u001b[0;34m.\u001b[0m\u001b[0mtimezone\u001b[0m\u001b[0;34m(\u001b[0m\u001b[0;34m\"US/Eastern\"\u001b[0m\u001b[0;34m)\u001b[0m\u001b[0;34m\u001b[0m\u001b[0;34m\u001b[0m\u001b[0m\n",
      "\u001b[0;32m~/.pyenv/versions/3.8.6/lib/python3.8/_strptime.py\u001b[0m in \u001b[0;36m_strptime_datetime\u001b[0;34m(cls, data_string, format)\u001b[0m\n\u001b[1;32m    566\u001b[0m     \"\"\"Return a class cls instance based on the input string and the\n\u001b[1;32m    567\u001b[0m     format string.\"\"\"\n\u001b[0;32m--> 568\u001b[0;31m     \u001b[0mtt\u001b[0m\u001b[0;34m,\u001b[0m \u001b[0mfraction\u001b[0m\u001b[0;34m,\u001b[0m \u001b[0mgmtoff_fraction\u001b[0m \u001b[0;34m=\u001b[0m \u001b[0m_strptime\u001b[0m\u001b[0;34m(\u001b[0m\u001b[0mdata_string\u001b[0m\u001b[0;34m,\u001b[0m \u001b[0mformat\u001b[0m\u001b[0;34m)\u001b[0m\u001b[0;34m\u001b[0m\u001b[0;34m\u001b[0m\u001b[0m\n\u001b[0m\u001b[1;32m    569\u001b[0m     \u001b[0mtzname\u001b[0m\u001b[0;34m,\u001b[0m \u001b[0mgmtoff\u001b[0m \u001b[0;34m=\u001b[0m \u001b[0mtt\u001b[0m\u001b[0;34m[\u001b[0m\u001b[0;34m-\u001b[0m\u001b[0;36m2\u001b[0m\u001b[0;34m:\u001b[0m\u001b[0;34m]\u001b[0m\u001b[0;34m\u001b[0m\u001b[0;34m\u001b[0m\u001b[0m\n\u001b[1;32m    570\u001b[0m     \u001b[0margs\u001b[0m \u001b[0;34m=\u001b[0m \u001b[0mtt\u001b[0m\u001b[0;34m[\u001b[0m\u001b[0;34m:\u001b[0m\u001b[0;36m6\u001b[0m\u001b[0;34m]\u001b[0m \u001b[0;34m+\u001b[0m \u001b[0;34m(\u001b[0m\u001b[0mfraction\u001b[0m\u001b[0;34m,\u001b[0m\u001b[0;34m)\u001b[0m\u001b[0;34m\u001b[0m\u001b[0;34m\u001b[0m\u001b[0m\n",
      "\u001b[0;32m~/.pyenv/versions/3.8.6/lib/python3.8/_strptime.py\u001b[0m in \u001b[0;36m_strptime\u001b[0;34m(data_string, format)\u001b[0m\n\u001b[1;32m    347\u001b[0m     \u001b[0mfound\u001b[0m \u001b[0;34m=\u001b[0m \u001b[0mformat_regex\u001b[0m\u001b[0;34m.\u001b[0m\u001b[0mmatch\u001b[0m\u001b[0;34m(\u001b[0m\u001b[0mdata_string\u001b[0m\u001b[0;34m)\u001b[0m\u001b[0;34m\u001b[0m\u001b[0;34m\u001b[0m\u001b[0m\n\u001b[1;32m    348\u001b[0m     \u001b[0;32mif\u001b[0m \u001b[0;32mnot\u001b[0m \u001b[0mfound\u001b[0m\u001b[0;34m:\u001b[0m\u001b[0;34m\u001b[0m\u001b[0;34m\u001b[0m\u001b[0m\n\u001b[0;32m--> 349\u001b[0;31m         raise ValueError(\"time data %r does not match format %r\" %\n\u001b[0m\u001b[1;32m    350\u001b[0m                          (data_string, format))\n\u001b[1;32m    351\u001b[0m     \u001b[0;32mif\u001b[0m \u001b[0mlen\u001b[0m\u001b[0;34m(\u001b[0m\u001b[0mdata_string\u001b[0m\u001b[0;34m)\u001b[0m \u001b[0;34m!=\u001b[0m \u001b[0mfound\u001b[0m\u001b[0;34m.\u001b[0m\u001b[0mend\u001b[0m\u001b[0;34m(\u001b[0m\u001b[0;34m)\u001b[0m\u001b[0;34m:\u001b[0m\u001b[0;34m\u001b[0m\u001b[0;34m\u001b[0m\u001b[0m\n",
      "\u001b[0;31mValueError\u001b[0m: time data '2013-07-06' does not match format '%Y-%m-%d %H:%M:%S'"
     ]
    }
   ],
   "source": [
    "pickup_datetime='2013-07-06%2017:18:00'\n",
    "pickup_longitude='-73.950655'\n",
    "pickup_latitude='40.783282'\n",
    "dropoff_longitude='-73.984365'\n",
    "dropoff_latitude='40.769802'\n",
    "passenger_count='1'\n",
    "\n",
    "predict(pickup_datetime, pickup_longitude, pickup_latitude, dropoff_longitude,dropoff_latitude, passenger_count)"
   ]
  },
  {
   "cell_type": "code",
   "execution_count": null,
   "id": "a0d6372c",
   "metadata": {},
   "outputs": [],
   "source": []
  }
 ],
 "metadata": {
  "kernelspec": {
   "display_name": "Python 3",
   "language": "python",
   "name": "python3"
  },
  "language_info": {
   "codemirror_mode": {
    "name": "ipython",
    "version": 3
   },
   "file_extension": ".py",
   "mimetype": "text/x-python",
   "name": "python",
   "nbconvert_exporter": "python",
   "pygments_lexer": "ipython3",
   "version": "3.8.6"
  },
  "toc": {
   "base_numbering": 1,
   "nav_menu": {},
   "number_sections": true,
   "sideBar": true,
   "skip_h1_title": false,
   "title_cell": "Table of Contents",
   "title_sidebar": "Contents",
   "toc_cell": false,
   "toc_position": {},
   "toc_section_display": true,
   "toc_window_display": false
  }
 },
 "nbformat": 4,
 "nbformat_minor": 5
}
